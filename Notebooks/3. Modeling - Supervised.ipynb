{
 "cells": [
  {
   "cell_type": "markdown",
   "id": "0b73157e-86dd-4e1c-a493-1c3d2b1a4cd3",
   "metadata": {
    "id": "0b73157e-86dd-4e1c-a493-1c3d2b1a4cd3"
   },
   "source": [
    "# Capstone Three: 3. Modeling - Supervised<a id='3'></a>"
   ]
  },
  {
   "cell_type": "markdown",
   "id": "fafdd8e2-1065-441c-a1b2-07a370eb9e98",
   "metadata": {
    "id": "fafdd8e2-1065-441c-a1b2-07a370eb9e98"
   },
   "source": [
    "## 3.1 Contents<a id='3.1'></a>\n",
    "* [3. Modeling - Supervised](#3)\n",
    "  * [3.1 Contents](#3.1)\n",
    "  * [3.2 Imports](#3.2)\n",
    "  * [3.3 Load Data and Prepocessing](#3.3)\n",
    "  * [3.4 Modeling W/O Resampling](#3.4)\n",
    "    * [3.4.1 Logistic Regression](#3.4.1)\n",
    "    * [3.4.2 XGBoost](#3.4.2)\n",
    "    * [3.4.3 LightGBM](#3.4.3)\n",
    "  * [3.5 Modeling W/ Resampling](#3.5)\n",
    "    * [3.5.1 Resampling](#3.5.1)\n",
    "    * [3.5.2 Logistic Regression](#3.5.2)\n",
    "    * [3.5.3 XGBoost](#3.5.3)\n",
    "    * [3.5.4 LightGBM](#3.5.4)\n",
    "  * [3.6 Summary](#3.6)"
   ]
  },
  {
   "cell_type": "markdown",
   "id": "1a3e0fcd-f100-4102-808a-078bfe1dae18",
   "metadata": {
    "id": "1a3e0fcd-f100-4102-808a-078bfe1dae18"
   },
   "source": [
    "## 3.2 Imports<a id='3.2'></a>"
   ]
  },
  {
   "cell_type": "code",
   "execution_count": 1,
   "id": "2af94ce9",
   "metadata": {
    "id": "2af94ce9"
   },
   "outputs": [],
   "source": [
    "import pandas as pd\n",
    "import numpy as np\n",
    "\n",
    "import matplotlib.pyplot as plt\n",
    "import seaborn as sns\n",
    "\n",
    "from sklearn.preprocessing import StandardScaler\n",
    "from sklearn.decomposition import PCA\n",
    "import sklearn.model_selection\n",
    "from sklearn.model_selection import train_test_split\n",
    "from sklearn.model_selection import KFold, StratifiedKFold\n",
    "from sklearn.model_selection import GridSearchCV\n",
    "from sklearn.linear_model import LogisticRegression\n",
    "from sklearn.metrics import accuracy_score, f1_score\n",
    "from sklearn.metrics import classification_report\n",
    "from sklearn.metrics import confusion_matrix\n",
    "from sklearn.metrics import ConfusionMatrixDisplay\n",
    "from sklearn.metrics import precision_recall_fscore_support\n",
    "from sklearn.ensemble import GradientBoostingClassifier\n",
    "from imblearn.combine import SMOTEENN, SMOTETomek\n",
    "from imblearn.over_sampling import RandomOverSampler\n",
    "from imblearn.under_sampling import RandomUnderSampler\n",
    "from xgboost import XGBClassifier\n",
    "from lightgbm import LGBMClassifier"
   ]
  },
  {
   "cell_type": "markdown",
   "id": "713b3f66-3385-40b0-892a-570a9dce0310",
   "metadata": {
    "id": "713b3f66-3385-40b0-892a-570a9dce0310"
   },
   "source": [
    "## 3.3 Load Data and Preprocessing<a id='3.3'></a>"
   ]
  },
  {
   "cell_type": "code",
   "execution_count": 2,
   "id": "ac58ffc0",
   "metadata": {
    "id": "ac58ffc0"
   },
   "outputs": [],
   "source": [
    "data = pd.read_csv(\"data.csv\")"
   ]
  },
  {
   "cell_type": "code",
   "execution_count": 3,
   "id": "e9bc7401-8500-4dd1-95ff-52ba58b4b365",
   "metadata": {
    "id": "e9bc7401-8500-4dd1-95ff-52ba58b4b365"
   },
   "outputs": [],
   "source": [
    "X = data.drop(['Time', 'Class'], axis=1)   # Predictors\n",
    "y = data['Class']                          # Predictand\n",
    "\n",
    "# Train-test Splitting\n",
    "X_train, X_test, y_train, y_test = train_test_split(X, y, train_size = 0.8,\n",
    "                                                    random_state = 42, stratify=y)\n",
    "\n",
    "# Reset index\n",
    "X_train.reset_index(drop=True, inplace=True)\n",
    "y_train.reset_index(drop=True, inplace=True)\n",
    "X_test.reset_index(drop=True, inplace=True)\n",
    "y_test.reset_index(drop=True, inplace=True)\n",
    "\n",
    "# Combine train and test data into dataframes\n",
    "train_df = pd.concat([X_train, y_train], axis=1)\n",
    "test_df = pd.concat([X_test, y_test], axis=1)\n",
    "\n",
    "# Save train and test data to csv files\n",
    "train_df.to_csv('train.csv',index=False)\n",
    "test_df.to_csv('test.csv',index=False)"
   ]
  },
  {
   "cell_type": "code",
   "execution_count": 4,
   "id": "aa3011fb-fb04-4598-9fc0-1a02bfea6e32",
   "metadata": {
    "id": "aa3011fb-fb04-4598-9fc0-1a02bfea6e32"
   },
   "outputs": [],
   "source": [
    "# Standard Scaling\n",
    "sc = StandardScaler()\n",
    "X_train = sc.fit_transform(X_train)\n",
    "X_test = sc.transform(X_test)"
   ]
  },
  {
   "cell_type": "markdown",
   "id": "a325d18f-eba9-44e7-97d1-5fc3a8045623",
   "metadata": {
    "id": "a325d18f-eba9-44e7-97d1-5fc3a8045623"
   },
   "source": [
    "## 3.4 Modeling W/O Resampling<a id='3.4'></a>"
   ]
  },
  {
   "cell_type": "markdown",
   "id": "79fd7bc9-df62-49bf-992f-e97b7d4ca28e",
   "metadata": {
    "id": "79fd7bc9-df62-49bf-992f-e97b7d4ca28e"
   },
   "source": [
    "### 3.4.1 Logistic Regression<a id='3.4.1'></a>"
   ]
  },
  {
   "cell_type": "code",
   "execution_count": 5,
   "id": "31f03cc5-d5f4-4d03-ab5e-8dfd2bf106a5",
   "metadata": {
    "colab": {
     "base_uri": "https://localhost:8080/",
     "height": 628
    },
    "id": "31f03cc5-d5f4-4d03-ab5e-8dfd2bf106a5",
    "outputId": "53bee8e4-6f8b-4da4-ccf2-4aec69b58e83"
   },
   "outputs": [
    {
     "name": "stdout",
     "output_type": "stream",
     "text": [
      "              precision    recall  f1-score   support\n",
      "\n",
      "           0       1.00      1.00      1.00     56651\n",
      "           1       0.85      0.58      0.69        95\n",
      "\n",
      "    accuracy                           1.00     56746\n",
      "   macro avg       0.92      0.79      0.84     56746\n",
      "weighted avg       1.00      1.00      1.00     56746\n",
      "\n"
     ]
    },
    {
     "data": {
      "image/png": "[encoded data removed]",
      "text/plain": [
       "<Figure size 640x480 with 2 Axes>"
      ]
     },
     "metadata": {},
     "output_type": "display_data"
    }
   ],
   "source": [
    "logisticRegr = LogisticRegression(solver = 'liblinear', max_iter = 500)\n",
    "logisticRegr.fit(X_train, y_train)\n",
    "y_pred = logisticRegr.predict(X_test)\n",
    "\n",
    "p, r, f, s = precision_recall_fscore_support(y_test, y_pred)\n",
    "LR_scores = [round(p[1], 2), round(r[1], 2), round(f[1], 2)]\n",
    "\n",
    "print(classification_report(y_test, y_pred))\n",
    "cm = confusion_matrix(y_test, y_pred)\n",
    "disp = ConfusionMatrixDisplay(confusion_matrix=cm, display_labels = ['Normal', 'Fraud'])\n",
    "disp.plot()\n",
    "plt.show()"
   ]
  },
  {
   "cell_type": "markdown",
   "id": "t8R8sxdZG3zn",
   "metadata": {
    "id": "t8R8sxdZG3zn"
   },
   "source": [
    "### 3.4.2 XGBoost<a id='3.4.2'></a>"
   ]
  },
  {
   "cell_type": "code",
   "execution_count": 6,
   "id": "Uebsb6DJG6n0",
   "metadata": {
    "colab": {
     "base_uri": "https://localhost:8080/",
     "height": 628
    },
    "id": "Uebsb6DJG6n0",
    "outputId": "a1af0a64-1a30-4817-a178-1e5d26a52e63"
   },
   "outputs": [
    {
     "name": "stdout",
     "output_type": "stream",
     "text": [
      "              precision    recall  f1-score   support\n",
      "\n",
      "           0       1.00      1.00      1.00     56651\n",
      "           1       0.97      0.76      0.85        95\n",
      "\n",
      "    accuracy                           1.00     56746\n",
      "   macro avg       0.99      0.88      0.93     56746\n",
      "weighted avg       1.00      1.00      1.00     56746\n",
      "\n"
     ]
    },
    {
     "data": {
      "image/png": "[encoded data removed]",
      "text/plain": [
       "<Figure size 640x480 with 2 Axes>"
      ]
     },
     "metadata": {},
     "output_type": "display_data"
    }
   ],
   "source": [
    "xbg = XGBClassifier(learning_rate=0.2, max_depth=5, n_estimators=500)\n",
    "xbg.fit(X_train, y_train)\n",
    "y_pred = xbg.predict(X_test)\n",
    "\n",
    "p, r, f, s = precision_recall_fscore_support(y_test, y_pred)\n",
    "XGB_scores = [round(p[1], 2), round(r[1], 2), round(f[1], 2)]\n",
    "\n",
    "print(classification_report(y_test, y_pred))\n",
    "cm = confusion_matrix(y_test, y_pred)\n",
    "disp = ConfusionMatrixDisplay(confusion_matrix=cm, display_labels = ['Normal', 'Fraud'])\n",
    "disp.plot()\n",
    "plt.show()"
   ]
  },
  {
   "cell_type": "markdown",
   "id": "M_l5x8rRHPJ4",
   "metadata": {
    "id": "M_l5x8rRHPJ4"
   },
   "source": [
    "### 3.4.3 LightGBM<a id='3.4.3'></a>"
   ]
  },
  {
   "cell_type": "code",
   "execution_count": 7,
   "id": "rrXjPD3JHVJT",
   "metadata": {
    "colab": {
     "base_uri": "https://localhost:8080/",
     "height": 628
    },
    "id": "rrXjPD3JHVJT",
    "outputId": "4a878d7c-61ba-4901-cb4b-c235805762ef"
   },
   "outputs": [
    {
     "name": "stdout",
     "output_type": "stream",
     "text": [
      "              precision    recall  f1-score   support\n",
      "\n",
      "           0       1.00      1.00      1.00     56651\n",
      "           1       0.71      0.46      0.56        95\n",
      "\n",
      "    accuracy                           1.00     56746\n",
      "   macro avg       0.85      0.73      0.78     56746\n",
      "weighted avg       1.00      1.00      1.00     56746\n",
      "\n"
     ]
    },
    {
     "data": {
      "image/png": "[encoded data removed]",
      "text/plain": [
       "<Figure size 640x480 with 2 Axes>"
      ]
     },
     "metadata": {},
     "output_type": "display_data"
    }
   ],
   "source": [
    "lgb = LGBMClassifier(learning_rate=0.1, max_depth=-3, n_estimators=500, num_leaves=31, verbose=-1)\n",
    "lgb.fit(X_train, y_train)\n",
    "y_pred = lgb.predict(X_test)\n",
    "\n",
    "p, r, f, s = precision_recall_fscore_support(y_test, y_pred)\n",
    "LGBM_scores = [round(p[1], 2), round(r[1], 2), round(f[1], 2)]\n",
    "\n",
    "print(classification_report(y_test, y_pred))\n",
    "cm = confusion_matrix(y_test, y_pred)\n",
    "disp = ConfusionMatrixDisplay(confusion_matrix=cm, display_labels = ['Normal', 'Fraud'])\n",
    "disp.plot()\n",
    "plt.show()"
   ]
  },
  {
   "cell_type": "markdown",
   "id": "18a1239d-489d-48d9-b546-263ac9ab0283",
   "metadata": {
    "id": "18a1239d-489d-48d9-b546-263ac9ab0283"
   },
   "source": [
    "XGboost gives the highest F1 score of 0.85. Logistic regression has an F1 score of 0.69. LightGBM is worst (F1 score=0.56), having True Positive (44) even less than False Positive (51). \\\n",
    "The above results are less sensitive to hyperparameters."
   ]
  },
  {
   "cell_type": "markdown",
   "id": "574bc8e6",
   "metadata": {
    "id": "574bc8e6"
   },
   "source": [
    "## 3.5 Modeling W/ Resampling<a id='3.5'></a>"
   ]
  },
  {
   "cell_type": "markdown",
   "id": "O65F1cdnJBIe",
   "metadata": {
    "id": "O65F1cdnJBIe"
   },
   "source": [
    "### 3.5.1 Resampling<a id='3.5.1'></a>"
   ]
  },
  {
   "cell_type": "code",
   "execution_count": 8,
   "id": "7502d246",
   "metadata": {
    "id": "7502d246"
   },
   "outputs": [],
   "source": [
    "rsp = RandomOverSampler(random_state=42)\n",
    "X_train_rsp, y_train_rsp = rsp.fit_resample(X_train, y_train)"
   ]
  },
  {
   "cell_type": "markdown",
   "id": "0938dbc4-e456-41c4-be6a-6265ed20d207",
   "metadata": {
    "id": "0938dbc4-e456-41c4-be6a-6265ed20d207"
   },
   "source": [
    "### 3.5.2 Logistic Regression<a id='3.5.2'></a>"
   ]
  },
  {
   "cell_type": "code",
   "execution_count": 9,
   "id": "58102167-34cf-498f-8cd1-08ca463844c3",
   "metadata": {
    "colab": {
     "base_uri": "https://localhost:8080/",
     "height": 628
    },
    "id": "58102167-34cf-498f-8cd1-08ca463844c3",
    "outputId": "4008e6b7-9ec9-4e39-b93a-fb5a653730f0"
   },
   "outputs": [
    {
     "name": "stdout",
     "output_type": "stream",
     "text": [
      "              precision    recall  f1-score   support\n",
      "\n",
      "           0       1.00      0.98      0.99     56651\n",
      "           1       0.06      0.87      0.11        95\n",
      "\n",
      "    accuracy                           0.98     56746\n",
      "   macro avg       0.53      0.92      0.55     56746\n",
      "weighted avg       1.00      0.98      0.99     56746\n",
      "\n"
     ]
    },
    {
     "data": {
      "image/png": "[encoded data removed]",
      "text/plain": [
       "<Figure size 640x480 with 2 Axes>"
      ]
     },
     "metadata": {},
     "output_type": "display_data"
    }
   ],
   "source": [
    "logisticRegr = LogisticRegression(solver = 'liblinear', max_iter = 500)\n",
    "logisticRegr.fit(X_train_rsp, y_train_rsp)\n",
    "y_pred = logisticRegr.predict(X_test)\n",
    "\n",
    "p, r, f, s = precision_recall_fscore_support(y_test, y_pred)\n",
    "LR_rsp_scores = [round(p[1], 2), round(r[1], 2), round(f[1], 2)]\n",
    "\n",
    "print(classification_report(y_test, y_pred))\n",
    "cm = confusion_matrix(y_test, y_pred)\n",
    "disp = ConfusionMatrixDisplay(confusion_matrix=cm, display_labels = ['Normal', 'Fraud'])\n",
    "disp.plot()\n",
    "plt.show()"
   ]
  },
  {
   "cell_type": "markdown",
   "id": "cc3e0d6f-1da3-4232-8512-0a6f1e780289",
   "metadata": {
    "id": "cc3e0d6f-1da3-4232-8512-0a6f1e780289"
   },
   "source": [
    "### 3.5.3 XGBoost<a id='3.5.3'></a>"
   ]
  },
  {
   "cell_type": "code",
   "execution_count": 10,
   "id": "c2f56f38-e5bb-4a8f-966d-d48c831e7a94",
   "metadata": {
    "colab": {
     "base_uri": "https://localhost:8080/",
     "height": 628
    },
    "id": "c2f56f38-e5bb-4a8f-966d-d48c831e7a94",
    "outputId": "55d68bab-045f-4e18-c9a6-4fb13716bfad"
   },
   "outputs": [
    {
     "name": "stdout",
     "output_type": "stream",
     "text": [
      "              precision    recall  f1-score   support\n",
      "\n",
      "           0       1.00      1.00      1.00     56651\n",
      "           1       0.96      0.77      0.85        95\n",
      "\n",
      "    accuracy                           1.00     56746\n",
      "   macro avg       0.98      0.88      0.93     56746\n",
      "weighted avg       1.00      1.00      1.00     56746\n",
      "\n"
     ]
    },
    {
     "data": {
      "image/png": "[encoded data removed]",
      "text/plain": [
       "<Figure size 640x480 with 2 Axes>"
      ]
     },
     "metadata": {},
     "output_type": "display_data"
    }
   ],
   "source": [
    "params=dict(learning_rate=0.2, max_depth=5, n_estimators=500)   # Identified using GridSearchCV\n",
    "xbg_best = XGBClassifier(**params)\n",
    "xbg_best.fit(X_train_rsp, y_train_rsp)\n",
    "y_pred = xbg_best.predict(X_test)\n",
    "\n",
    "p, r, f, s = precision_recall_fscore_support(y_test, y_pred)\n",
    "XGB_rsp_scores = [round(p[1], 2), round(r[1], 2), round(f[1], 2)]\n",
    "\n",
    "print(classification_report(y_test, y_pred))\n",
    "cm = confusion_matrix(y_test, y_pred)\n",
    "disp = ConfusionMatrixDisplay(confusion_matrix=cm, display_labels = ['Normal', 'Fraud'])\n",
    "disp.plot()\n",
    "plt.show()"
   ]
  },
  {
   "cell_type": "markdown",
   "id": "a457d246-6f88-4762-a4c8-171fb9694b45",
   "metadata": {
    "id": "a457d246-6f88-4762-a4c8-171fb9694b45"
   },
   "source": [
    "### 3.5.4 LightGBM<a id='3.5.4'></a>"
   ]
  },
  {
   "cell_type": "code",
   "execution_count": 11,
   "id": "fce7cc74-5c31-41d5-aaa9-c34643e542ef",
   "metadata": {
    "colab": {
     "base_uri": "https://localhost:8080/",
     "height": 628
    },
    "id": "fce7cc74-5c31-41d5-aaa9-c34643e542ef",
    "outputId": "0fff06cc-6dfc-48fa-c97a-4210182fbb99"
   },
   "outputs": [
    {
     "name": "stdout",
     "output_type": "stream",
     "text": [
      "              precision    recall  f1-score   support\n",
      "\n",
      "           0       1.00      1.00      1.00     56651\n",
      "           1       0.94      0.76      0.84        95\n",
      "\n",
      "    accuracy                           1.00     56746\n",
      "   macro avg       0.97      0.88      0.92     56746\n",
      "weighted avg       1.00      1.00      1.00     56746\n",
      "\n"
     ]
    },
    {
     "data": {
      "image/png": "[encoded data removed]",
      "text/plain": [
       "<Figure size 640x480 with 2 Axes>"
      ]
     },
     "metadata": {},
     "output_type": "display_data"
    }
   ],
   "source": [
    "best_params=dict(learning_rate=0.1, max_depth=-3, n_estimators=500, num_leaves=31)\n",
    "lgb_best = LGBMClassifier(**best_params,verbose=-1)\n",
    "lgb_best.fit(X_train_rsp, y_train_rsp)\n",
    "y_pred = lgb_best.predict(X_test)\n",
    "\n",
    "p, r, f, s = precision_recall_fscore_support(y_test, y_pred)\n",
    "LGBM_rsp_scores = [round(p[1], 2), round(r[1], 2), round(f[1], 2)]\n",
    "\n",
    "print(classification_report(y_test, y_pred))\n",
    "cm = confusion_matrix(y_test, y_pred)\n",
    "disp = ConfusionMatrixDisplay(confusion_matrix=cm, display_labels = ['Normal', 'Fraud'])\n",
    "disp.plot()\n",
    "plt.show()"
   ]
  },
  {
   "cell_type": "markdown",
   "id": "ba6b9793-4125-44ec-b1d4-2a04a6f45795",
   "metadata": {
    "id": "ba6b9793-4125-44ec-b1d4-2a04a6f45795"
   },
   "source": [
    "### Combine metric scores from all models to a dataframe:"
   ]
  },
  {
   "cell_type": "code",
   "execution_count": 12,
   "id": "b60ed80c-5553-49a0-8d86-5219eaa89b7b",
   "metadata": {
    "colab": {
     "base_uri": "https://localhost:8080/",
     "height": 260
    },
    "id": "b60ed80c-5553-49a0-8d86-5219eaa89b7b",
    "outputId": "6587cc51-397f-4037-aaae-1f369934b140"
   },
   "outputs": [
    {
     "data": {
      "text/html": [
       "\n",
       "  <div id=\"df-11319b52-3837-40bb-a6ed-d588909f05e8\" class=\"colab-df-container\">\n",
       "    <div>\n",
       "<style scoped>\n",
       "    .dataframe tbody tr th:only-of-type {\n",
       "        vertical-align: middle;\n",
       "    }\n",
       "\n",
       "    .dataframe tbody tr th {\n",
       "        vertical-align: top;\n",
       "    }\n",
       "\n",
       "    .dataframe thead th {\n",
       "        text-align: right;\n",
       "    }\n",
       "</style>\n",
       "<table border=\"1\" class=\"dataframe\">\n",
       "  <thead>\n",
       "    <tr style=\"text-align: right;\">\n",
       "      <th></th>\n",
       "      <th>Precision</th>\n",
       "      <th>Recall</th>\n",
       "      <th>F1 Score</th>\n",
       "    </tr>\n",
       "  </thead>\n",
       "  <tbody>\n",
       "    <tr>\n",
       "      <th>Logistic Regression</th>\n",
       "      <td>0.85</td>\n",
       "      <td>0.58</td>\n",
       "      <td>0.69</td>\n",
       "    </tr>\n",
       "    <tr>\n",
       "      <th>LR w/ Resampling</th>\n",
       "      <td>0.06</td>\n",
       "      <td>0.87</td>\n",
       "      <td>0.11</td>\n",
       "    </tr>\n",
       "    <tr>\n",
       "      <th>XGBoost</th>\n",
       "      <td>0.97</td>\n",
       "      <td>0.76</td>\n",
       "      <td>0.85</td>\n",
       "    </tr>\n",
       "    <tr>\n",
       "      <th>XGB w/ Resampling</th>\n",
       "      <td>0.96</td>\n",
       "      <td>0.77</td>\n",
       "      <td>0.85</td>\n",
       "    </tr>\n",
       "    <tr>\n",
       "      <th>LightGBM</th>\n",
       "      <td>0.71</td>\n",
       "      <td>0.46</td>\n",
       "      <td>0.56</td>\n",
       "    </tr>\n",
       "    <tr>\n",
       "      <th>LGBM w/ Resampling</th>\n",
       "      <td>0.94</td>\n",
       "      <td>0.76</td>\n",
       "      <td>0.84</td>\n",
       "    </tr>\n",
       "  </tbody>\n",
       "</table>\n",
       "</div>\n",
       "    <div class=\"colab-df-buttons\">\n",
       "\n",
       "  <div class=\"colab-df-container\">\n",
       "    <button class=\"colab-df-convert\" onclick=\"convertToInteractive('df-11319b52-3837-40bb-a6ed-d588909f05e8')\"\n",
       "            title=\"Convert this dataframe to an interactive table.\"\n",
       "            style=\"display:none;\">\n",
       "\n",
       "  <svg xmlns=\"http://www.w3.org/2000/svg\" height=\"24px\" viewBox=\"0 -960 960 960\">\n",
       "    <path d=\"M120-120v-720h720v720H120Zm60-500h600v-160H180v160Zm220 220h160v-160H400v160Zm0 220h160v-160H400v160ZM180-400h160v-160H180v160Zm440 0h160v-160H620v160ZM180-180h160v-160H180v160Zm440 0h160v-160H620v160Z\"/>\n",
       "  </svg>\n",
       "    </button>\n",
       "\n",
       "  <style>\n",
       "    .colab-df-container {\n",
       "      display:flex;\n",
       "      gap: 12px;\n",
       "    }\n",
       "\n",
       "    .colab-df-convert {\n",
       "      background-color: #E8F0FE;\n",
       "      border: none;\n",
       "      border-radius: 50%;\n",
       "      cursor: pointer;\n",
       "      display: none;\n",
       "      fill: #1967D2;\n",
       "      height: 32px;\n",
       "      padding: 0 0 0 0;\n",
       "      width: 32px;\n",
       "    }\n",
       "\n",
       "    .colab-df-convert:hover {\n",
       "      background-color: #E2EBFA;\n",
       "      box-shadow: 0px 1px 2px rgba(60, 64, 67, 0.3), 0px 1px 3px 1px rgba(60, 64, 67, 0.15);\n",
       "      fill: #174EA6;\n",
       "    }\n",
       "\n",
       "    .colab-df-buttons div {\n",
       "      margin-bottom: 4px;\n",
       "    }\n",
       "\n",
       "    [theme=dark] .colab-df-convert {\n",
       "      background-color: #3B4455;\n",
       "      fill: #D2E3FC;\n",
       "    }\n",
       "\n",
       "    [theme=dark] .colab-df-convert:hover {\n",
       "      background-color: #434B5C;\n",
       "      box-shadow: 0px 1px 3px 1px rgba(0, 0, 0, 0.15);\n",
       "      filter: drop-shadow(0px 1px 2px rgba(0, 0, 0, 0.3));\n",
       "      fill: #FFFFFF;\n",
       "    }\n",
       "  </style>\n",
       "\n",
       "    <script>\n",
       "      const buttonEl =\n",
       "        document.querySelector('#df-11319b52-3837-40bb-a6ed-d588909f05e8 button.colab-df-convert');\n",
       "      buttonEl.style.display =\n",
       "        google.colab.kernel.accessAllowed ? 'block' : 'none';\n",
       "\n",
       "      async function convertToInteractive(key) {\n",
       "        const element = document.querySelector('#df-11319b52-3837-40bb-a6ed-d588909f05e8');\n",
       "        const dataTable =\n",
       "          await google.colab.kernel.invokeFunction('convertToInteractive',\n",
       "                                                    [key], {});\n",
       "        if (!dataTable) return;\n",
       "\n",
       "        const docLinkHtml = 'Like what you see? Visit the ' +\n",
       "          '<a target=\"_blank\" href=https://colab.research.google.com/notebooks/data_table.ipynb>data table notebook</a>'\n",
       "          + ' to learn more about interactive tables.';\n",
       "        element.innerHTML = '';\n",
       "        dataTable['output_type'] = 'display_data';\n",
       "        await google.colab.output.renderOutput(dataTable, element);\n",
       "        const docLink = document.createElement('div');\n",
       "        docLink.innerHTML = docLinkHtml;\n",
       "        element.appendChild(docLink);\n",
       "      }\n",
       "    </script>\n",
       "  </div>\n",
       "\n",
       "\n",
       "<div id=\"df-3bb0730b-c4f0-451c-b431-7a4e7c81a303\">\n",
       "  <button class=\"colab-df-quickchart\" onclick=\"quickchart('df-3bb0730b-c4f0-451c-b431-7a4e7c81a303')\"\n",
       "            title=\"Suggest charts\"\n",
       "            style=\"display:none;\">\n",
       "\n",
       "<svg xmlns=\"http://www.w3.org/2000/svg\" height=\"24px\"viewBox=\"0 0 24 24\"\n",
       "     width=\"24px\">\n",
       "    <g>\n",
       "        <path d=\"M19 3H5c-1.1 0-2 .9-2 2v14c0 1.1.9 2 2 2h14c1.1 0 2-.9 2-2V5c0-1.1-.9-2-2-2zM9 17H7v-7h2v7zm4 0h-2V7h2v10zm4 0h-2v-4h2v4z\"/>\n",
       "    </g>\n",
       "</svg>\n",
       "  </button>\n",
       "\n",
       "<style>\n",
       "  .colab-df-quickchart {\n",
       "      --bg-color: #E8F0FE;\n",
       "      --fill-color: #1967D2;\n",
       "      --hover-bg-color: #E2EBFA;\n",
       "      --hover-fill-color: #174EA6;\n",
       "      --disabled-fill-color: #AAA;\n",
       "      --disabled-bg-color: #DDD;\n",
       "  }\n",
       "\n",
       "  [theme=dark] .colab-df-quickchart {\n",
       "      --bg-color: #3B4455;\n",
       "      --fill-color: #D2E3FC;\n",
       "      --hover-bg-color: #434B5C;\n",
       "      --hover-fill-color: #FFFFFF;\n",
       "      --disabled-bg-color: #3B4455;\n",
       "      --disabled-fill-color: #666;\n",
       "  }\n",
       "\n",
       "  .colab-df-quickchart {\n",
       "    background-color: var(--bg-color);\n",
       "    border: none;\n",
       "    border-radius: 50%;\n",
       "    cursor: pointer;\n",
       "    display: none;\n",
       "    fill: var(--fill-color);\n",
       "    height: 32px;\n",
       "    padding: 0;\n",
       "    width: 32px;\n",
       "  }\n",
       "\n",
       "  .colab-df-quickchart:hover {\n",
       "    background-color: var(--hover-bg-color);\n",
       "    box-shadow: 0 1px 2px rgba(60, 64, 67, 0.3), 0 1px 3px 1px rgba(60, 64, 67, 0.15);\n",
       "    fill: var(--button-hover-fill-color);\n",
       "  }\n",
       "\n",
       "  .colab-df-quickchart-complete:disabled,\n",
       "  .colab-df-quickchart-complete:disabled:hover {\n",
       "    background-color: var(--disabled-bg-color);\n",
       "    fill: var(--disabled-fill-color);\n",
       "    box-shadow: none;\n",
       "  }\n",
       "\n",
       "  .colab-df-spinner {\n",
       "    border: 2px solid var(--fill-color);\n",
       "    border-color: transparent;\n",
       "    border-bottom-color: var(--fill-color);\n",
       "    animation:\n",
       "      spin 1s steps(1) infinite;\n",
       "  }\n",
       "\n",
       "  @keyframes spin {\n",
       "    0% {\n",
       "      border-color: transparent;\n",
       "      border-bottom-color: var(--fill-color);\n",
       "      border-left-color: var(--fill-color);\n",
       "    }\n",
       "    20% {\n",
       "      border-color: transparent;\n",
       "      border-left-color: var(--fill-color);\n",
       "      border-top-color: var(--fill-color);\n",
       "    }\n",
       "    30% {\n",
       "      border-color: transparent;\n",
       "      border-left-color: var(--fill-color);\n",
       "      border-top-color: var(--fill-color);\n",
       "      border-right-color: var(--fill-color);\n",
       "    }\n",
       "    40% {\n",
       "      border-color: transparent;\n",
       "      border-right-color: var(--fill-color);\n",
       "      border-top-color: var(--fill-color);\n",
       "    }\n",
       "    60% {\n",
       "      border-color: transparent;\n",
       "      border-right-color: var(--fill-color);\n",
       "    }\n",
       "    80% {\n",
       "      border-color: transparent;\n",
       "      border-right-color: var(--fill-color);\n",
       "      border-bottom-color: var(--fill-color);\n",
       "    }\n",
       "    90% {\n",
       "      border-color: transparent;\n",
       "      border-bottom-color: var(--fill-color);\n",
       "    }\n",
       "  }\n",
       "</style>\n",
       "\n",
       "  <script>\n",
       "    async function quickchart(key) {\n",
       "      const quickchartButtonEl =\n",
       "        document.querySelector('#' + key + ' button');\n",
       "      quickchartButtonEl.disabled = true;  // To prevent multiple clicks.\n",
       "      quickchartButtonEl.classList.add('colab-df-spinner');\n",
       "      try {\n",
       "        const charts = await google.colab.kernel.invokeFunction(\n",
       "            'suggestCharts', [key], {});\n",
       "      } catch (error) {\n",
       "        console.error('Error during call to suggestCharts:', error);\n",
       "      }\n",
       "      quickchartButtonEl.classList.remove('colab-df-spinner');\n",
       "      quickchartButtonEl.classList.add('colab-df-quickchart-complete');\n",
       "    }\n",
       "    (() => {\n",
       "      let quickchartButtonEl =\n",
       "        document.querySelector('#df-3bb0730b-c4f0-451c-b431-7a4e7c81a303 button');\n",
       "      quickchartButtonEl.style.display =\n",
       "        google.colab.kernel.accessAllowed ? 'block' : 'none';\n",
       "    })();\n",
       "  </script>\n",
       "</div>\n",
       "\n",
       "  <div id=\"id_99ab67a1-16e1-46d8-95f7-6f011c483359\">\n",
       "    <style>\n",
       "      .colab-df-generate {\n",
       "        background-color: #E8F0FE;\n",
       "        border: none;\n",
       "        border-radius: 50%;\n",
       "        cursor: pointer;\n",
       "        display: none;\n",
       "        fill: #1967D2;\n",
       "        height: 32px;\n",
       "        padding: 0 0 0 0;\n",
       "        width: 32px;\n",
       "      }\n",
       "\n",
       "      .colab-df-generate:hover {\n",
       "        background-color: #E2EBFA;\n",
       "        box-shadow: 0px 1px 2px rgba(60, 64, 67, 0.3), 0px 1px 3px 1px rgba(60, 64, 67, 0.15);\n",
       "        fill: #174EA6;\n",
       "      }\n",
       "\n",
       "      [theme=dark] .colab-df-generate {\n",
       "        background-color: #3B4455;\n",
       "        fill: #D2E3FC;\n",
       "      }\n",
       "\n",
       "      [theme=dark] .colab-df-generate:hover {\n",
       "        background-color: #434B5C;\n",
       "        box-shadow: 0px 1px 3px 1px rgba(0, 0, 0, 0.15);\n",
       "        filter: drop-shadow(0px 1px 2px rgba(0, 0, 0, 0.3));\n",
       "        fill: #FFFFFF;\n",
       "      }\n",
       "    </style>\n",
       "    <button class=\"colab-df-generate\" onclick=\"generateWithVariable('df_scores')\"\n",
       "            title=\"Generate code using this dataframe.\"\n",
       "            style=\"display:none;\">\n",
       "\n",
       "  <svg xmlns=\"http://www.w3.org/2000/svg\" height=\"24px\"viewBox=\"0 0 24 24\"\n",
       "       width=\"24px\">\n",
       "    <path d=\"M7,19H8.4L18.45,9,17,7.55,7,17.6ZM5,21V16.75L18.45,3.32a2,2,0,0,1,2.83,0l1.4,1.43a1.91,1.91,0,0,1,.58,1.4,1.91,1.91,0,0,1-.58,1.4L9.25,21ZM18.45,9,17,7.55Zm-12,3A5.31,5.31,0,0,0,4.9,8.1,5.31,5.31,0,0,0,1,6.5,5.31,5.31,0,0,0,4.9,4.9,5.31,5.31,0,0,0,6.5,1,5.31,5.31,0,0,0,8.1,4.9,5.31,5.31,0,0,0,12,6.5,5.46,5.46,0,0,0,6.5,12Z\"/>\n",
       "  </svg>\n",
       "    </button>\n",
       "    <script>\n",
       "      (() => {\n",
       "      const buttonEl =\n",
       "        document.querySelector('#id_99ab67a1-16e1-46d8-95f7-6f011c483359 button.colab-df-generate');\n",
       "      buttonEl.style.display =\n",
       "        google.colab.kernel.accessAllowed ? 'block' : 'none';\n",
       "\n",
       "      buttonEl.onclick = () => {\n",
       "        google.colab.notebook.generateWithVariable('df_scores');\n",
       "      }\n",
       "      })();\n",
       "    </script>\n",
       "  </div>\n",
       "\n",
       "    </div>\n",
       "  </div>\n"
      ],
      "text/plain": [
       "                     Precision  Recall  F1 Score\n",
       "Logistic Regression       0.85    0.58      0.69\n",
       "LR w/ Resampling          0.06    0.87      0.11\n",
       "XGBoost                   0.97    0.76      0.85\n",
       "XGB w/ Resampling         0.96    0.77      0.85\n",
       "LightGBM                  0.71    0.46      0.56\n",
       "LGBM w/ Resampling        0.94    0.76      0.84"
      ]
     },
     "execution_count": 12,
     "metadata": {},
     "output_type": "execute_result"
    }
   ],
   "source": [
    "list_scores = [LR_scores, LR_rsp_scores, XGB_scores, XGB_rsp_scores, LGBM_scores, LGBM_rsp_scores]\n",
    "df_scores = pd.DataFrame(list_scores)\n",
    "df_scores.columns = ['Precision', 'Recall', 'F1 Score']\n",
    "\n",
    "models = ['Logistic Regression', 'LR w/ Resampling', 'XGBoost', 'XGB w/ Resampling',\n",
    "          'LightGBM', 'LGBM w/ Resampling']\n",
    "df_scores.index = models\n",
    "df_scores"
   ]
  },
  {
   "cell_type": "code",
   "execution_count": 13,
   "id": "2d7cb59f-42c5-4651-bfe2-618e3b83bd7d",
   "metadata": {
    "id": "2d7cb59f-42c5-4651-bfe2-618e3b83bd7d"
   },
   "outputs": [],
   "source": [
    "# Save to csv files\n",
    "df_scores.to_csv('scores_supervised.csv')"
   ]
  },
  {
   "cell_type": "markdown",
   "id": "fe10918f-6e65-4046-ace9-0765ccfafed9",
   "metadata": {
    "id": "fe10918f-6e65-4046-ace9-0765ccfafed9"
   },
   "source": [
    "## 3.6 Summary<a id='3.6'></a>"
   ]
  },
  {
   "cell_type": "markdown",
   "id": "6bd254ff-3279-4b18-af34-275b3bd8773a",
   "metadata": {
    "id": "6bd254ff-3279-4b18-af34-275b3bd8773a"
   },
   "source": [
    "#### **Without Resampling:**\n",
    "\n",
    "**XGBoost** gives the highest F1 score of 0.85. \\\n",
    "**Logistic Regression** has a moderate F1 score of 0.69. \\\n",
    "**LightGBM** shows the lowest F1 score of 0.56, having True Positive (44) even less than False Positive (51).\n",
    "\n",
    "#### **After Applying Resampling:**\n",
    "\n",
    "**XGBoost** does NOT show much difference, still having similar high scores. \\\n",
    "**Logistic Regression** shows very low F1 score (0.11) and precision (0.06) but much higher recall (0.87).\\\n",
    "**LightGBM** shows higher F1 score, precision, and recall (similar to the results of XGBoost). \n",
    "\n",
    "For Resampling, I tried random undersampling and oversampling. Random undersampling gives much poorer prediction skills than random oversampling for all models as indicated by very low F1 scores and precision scores (less than 0.1)."
   ]
  }
 ],
 "metadata": {
  "colab": {
   "provenance": []
  },
  "kernelspec": {
   "display_name": "Python 3 (ipykernel)",
   "language": "python",
   "name": "python3"
  },
  "language_info": {
   "codemirror_mode": {
    "name": "ipython",
    "version": 3
   },
   "file_extension": ".py",
   "mimetype": "text/x-python",
   "name": "python",
   "nbconvert_exporter": "python",
   "pygments_lexer": "ipython3",
   "version": "3.9.13"
  }
 },
 "nbformat": 4,
 "nbformat_minor": 5
}
