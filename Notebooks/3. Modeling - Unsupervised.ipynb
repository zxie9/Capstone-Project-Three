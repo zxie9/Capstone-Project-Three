{
 "cells": [
  {
   "cell_type": "markdown",
   "id": "b01ef1b7-1daa-428f-870f-542df22601ef",
   "metadata": {},
   "source": [
    "# Capstone Three: 3. Modeling - Unsupervised<a id='3'></a>\n",
    "\n",
    "### Anomaly Detection using Unsupervised Algorithms"
   ]
  },
  {
   "cell_type": "markdown",
   "id": "a4f75cfa-eba1-4bf3-b265-b9a8d1d6a9f5",
   "metadata": {},
   "source": [
    "## 3.1 Contents<a id='3.1'></a>\n",
    "* [3. Modeling - Unsupervised](#3)\n",
    "  * [3.1 Contents](#3.1)\n",
    "  * [3.2 Imports](#3.2)\n",
    "  * [3.3 Load Data and Preprocessing](#3.3)\n",
    "  * [3.4 Modeling](#3.4)\n",
    "    * [3.4.1 Isolation Forest](#3.4.1)\n",
    "    * [3.4.2 Local Outlier Factor](#3.4.2)\n",
    "  * [3.5 Compare Scores from All Supervised and Unsupervised Models](#3.5)"
   ]
  },
  {
   "cell_type": "markdown",
   "id": "7c46ea9c-d96b-41e4-af4f-66de57977298",
   "metadata": {},
   "source": [
    "## 3.2 Imports<a id='3.2'></a>"
   ]
  },
  {
   "cell_type": "code",
   "execution_count": 94,
   "id": "7cb05eea-c8ca-4a14-b1d3-40f5c0d382c4",
   "metadata": {},
   "outputs": [],
   "source": [
    "import pandas as pd\n",
    "import numpy as np\n",
    "import seaborn as sns\n",
    "import matplotlib.pyplot as plt\n",
    "\n",
    "from sklearn.preprocessing import StandardScaler\n",
    "from sklearn.model_selection import train_test_split\n",
    "\n",
    "#for modeling\n",
    "from sklearn.ensemble import IsolationForest\n",
    "from sklearn.neighbors import LocalOutlierFactor\n",
    "\n",
    "# Metrics\n",
    "from sklearn.metrics import accuracy_score, f1_score\n",
    "from sklearn.metrics import classification_report\n",
    "from sklearn.metrics import confusion_matrix\n",
    "from sklearn.metrics import ConfusionMatrixDisplay\n",
    "from sklearn.metrics import precision_recall_fscore_support\n",
    "\n",
    "#filter warnings\n",
    "import warnings\n",
    "warnings.filterwarnings(\"ignore\")"
   ]
  },
  {
   "cell_type": "markdown",
   "id": "9cf88ad7-da1f-4eb5-9f32-2075aaa59c58",
   "metadata": {},
   "source": [
    "## 3.3 Load Data and Preprocessing<a id='3.3'></a>"
   ]
  },
  {
   "cell_type": "markdown",
   "id": "69dd5309-e7cf-4bce-8e56-ec6ec8600cd4",
   "metadata": {},
   "source": [
    "Loading the tarining and testing datasets obtained from the `Modeling - Supervised` notebook, in order to use the exactly same train-test split."
   ]
  },
  {
   "cell_type": "code",
   "execution_count": 196,
   "id": "ab15ee9b-edfe-465e-8661-f67e1eafc349",
   "metadata": {},
   "outputs": [],
   "source": [
    "# Read from previous saved train and test data files\n",
    "train = pd.read_csv(\"../data/train.csv\")\n",
    "test = pd.read_csv(\"../data/test.csv\")\n",
    "\n",
    "X_train = train.drop(['Class'], axis=1)\n",
    "y_train = train['Class']\n",
    "X_test = test.drop(['Class'], axis=1)\n",
    "y_test = test['Class']"
   ]
  },
  {
   "cell_type": "code",
   "execution_count": 197,
   "id": "8f14dba4-b2ea-4870-9e77-c59fd09cdc72",
   "metadata": {},
   "outputs": [],
   "source": [
    "# Standard Scaling\n",
    "sc = StandardScaler()\n",
    "X_train = sc.fit_transform(X_train)\n",
    "X_test = sc.transform(X_test)"
   ]
  },
  {
   "cell_type": "markdown",
   "id": "d14a9fc4-db43-4d05-ad84-685170c443df",
   "metadata": {},
   "source": [
    "## 3.4 Modeling<a id='3.4'></a>"
   ]
  },
  {
   "cell_type": "markdown",
   "id": "e30f437a-98bb-47b0-9549-7f8927c84234",
   "metadata": {},
   "source": [
    "### 3.4.1 Isolation Forest<a id='3.4.1'></a>"
   ]
  },
  {
   "cell_type": "code",
   "execution_count": 203,
   "id": "ac52b35c-fca7-4e3e-a190-7d3c322e3839",
   "metadata": {},
   "outputs": [
    {
     "name": "stdout",
     "output_type": "stream",
     "text": [
      "              precision    recall  f1-score   support\n",
      "\n",
      "           0       1.00      0.96      0.98     56651\n",
      "           1       0.04      0.80      0.07        95\n",
      "\n",
      "    accuracy                           0.96     56746\n",
      "   macro avg       0.52      0.88      0.53     56746\n",
      "weighted avg       1.00      0.96      0.98     56746\n",
      "\n"
     ]
    },
    {
     "data": {
      "image/png": "[encoded data removed]",
      "text/plain": [
       "<Figure size 640x480 with 2 Axes>"
      ]
     },
     "metadata": {},
     "output_type": "display_data"
    }
   ],
   "source": [
    "# Model (Using Default 'n_estimators' and 'contamination')\n",
    "clf = IsolationForest(n_estimators=100, contamination='auto', random_state=0)\n",
    "clf.fit(X_train)\n",
    "y_pred = clf.predict(X_test)\n",
    "\n",
    "# Rename Class labels\n",
    "y_pred[y_pred == 1] = 0 \n",
    "y_pred[y_pred == -1] = 1 \n",
    "\n",
    "# Metrics\n",
    "p, r, f, s = precision_recall_fscore_support(y_test, y_pred)\n",
    "IF_scores = [round(p[1], 2), round(r[1], 2), round(f[1], 2)]\n",
    "\n",
    "print(classification_report(y_test, y_pred))\n",
    "cm = confusion_matrix(y_test, y_pred)\n",
    "disp = ConfusionMatrixDisplay(confusion_matrix=cm, display_labels = ['Normal', 'Fraud'])\n",
    "disp.plot()\n",
    "plt.show()"
   ]
  },
  {
   "cell_type": "markdown",
   "id": "ba03ebb4-5834-46d7-bfae-4608cb30992e",
   "metadata": {},
   "source": [
    "#### Hyperparameter Tuning of Isolation Forest Model: \n",
    "`n_estimators` and `contamination`"
   ]
  },
  {
   "cell_type": "markdown",
   "id": "7a22cea9-fd46-4663-8cec-1f70991636a7",
   "metadata": {},
   "source": [
    "**(1) `n_estimators`**"
   ]
  },
  {
   "cell_type": "code",
   "execution_count": 167,
   "id": "6e79f4cc-bb22-4b36-b5f1-b68dfe74b670",
   "metadata": {},
   "outputs": [],
   "source": [
    "precision_0 = []\n",
    "precision_1 = []\n",
    "recall_0 = []\n",
    "recall_1 = []\n",
    "\n",
    "ks = [10, 50, 100, 200, 300, 500, 1000]  \n",
    "for k in ks:\n",
    "    clf = IsolationForest(n_estimators=k, random_state=0)\n",
    "    clf.fit(X_train)\n",
    "    y_pred = clf.predict(X_test)\n",
    "    \n",
    "    y_pred[y_pred == 1] = 0 \n",
    "    y_pred[y_pred == -1] = 1 \n",
    "    \n",
    "    p, r, f, s = precision_recall_fscore_support(y_test, y_pred)\n",
    "\n",
    "    precision_0.append(round(p[0], 3))\n",
    "    precision_1.append(round(p[1], 3))\n",
    "    recall_0.append(round(r[0], 3))\n",
    "    recall_1.append(round(r[1], 3))"
   ]
  },
  {
   "cell_type": "code",
   "execution_count": 168,
   "id": "1a364bf4-5cb2-44f2-a361-b43baaf620bb",
   "metadata": {},
   "outputs": [
    {
     "data": {
      "text/html": [
       "<div>\n",
       "<style scoped>\n",
       "    .dataframe tbody tr th:only-of-type {\n",
       "        vertical-align: middle;\n",
       "    }\n",
       "\n",
       "    .dataframe tbody tr th {\n",
       "        vertical-align: top;\n",
       "    }\n",
       "\n",
       "    .dataframe thead th {\n",
       "        text-align: right;\n",
       "    }\n",
       "</style>\n",
       "<table border=\"1\" class=\"dataframe\">\n",
       "  <thead>\n",
       "    <tr style=\"text-align: right;\">\n",
       "      <th></th>\n",
       "      <th>n_estimators</th>\n",
       "      <th>precision_0</th>\n",
       "      <th>precision_1</th>\n",
       "      <th>recall_0</th>\n",
       "      <th>recall_1</th>\n",
       "    </tr>\n",
       "  </thead>\n",
       "  <tbody>\n",
       "    <tr>\n",
       "      <th>0</th>\n",
       "      <td>10</td>\n",
       "      <td>1.0</td>\n",
       "      <td>0.03</td>\n",
       "      <td>0.95</td>\n",
       "      <td>0.81</td>\n",
       "    </tr>\n",
       "    <tr>\n",
       "      <th>1</th>\n",
       "      <td>50</td>\n",
       "      <td>1.0</td>\n",
       "      <td>0.03</td>\n",
       "      <td>0.96</td>\n",
       "      <td>0.80</td>\n",
       "    </tr>\n",
       "    <tr>\n",
       "      <th>2</th>\n",
       "      <td>100</td>\n",
       "      <td>1.0</td>\n",
       "      <td>0.04</td>\n",
       "      <td>0.96</td>\n",
       "      <td>0.80</td>\n",
       "    </tr>\n",
       "    <tr>\n",
       "      <th>3</th>\n",
       "      <td>200</td>\n",
       "      <td>1.0</td>\n",
       "      <td>0.04</td>\n",
       "      <td>0.96</td>\n",
       "      <td>0.80</td>\n",
       "    </tr>\n",
       "    <tr>\n",
       "      <th>4</th>\n",
       "      <td>300</td>\n",
       "      <td>1.0</td>\n",
       "      <td>0.04</td>\n",
       "      <td>0.96</td>\n",
       "      <td>0.80</td>\n",
       "    </tr>\n",
       "    <tr>\n",
       "      <th>5</th>\n",
       "      <td>500</td>\n",
       "      <td>1.0</td>\n",
       "      <td>0.04</td>\n",
       "      <td>0.96</td>\n",
       "      <td>0.80</td>\n",
       "    </tr>\n",
       "    <tr>\n",
       "      <th>6</th>\n",
       "      <td>1000</td>\n",
       "      <td>1.0</td>\n",
       "      <td>0.04</td>\n",
       "      <td>0.97</td>\n",
       "      <td>0.80</td>\n",
       "    </tr>\n",
       "  </tbody>\n",
       "</table>\n",
       "</div>"
      ],
      "text/plain": [
       "   n_estimators  precision_0  precision_1  recall_0  recall_1\n",
       "0            10          1.0         0.03      0.95      0.81\n",
       "1            50          1.0         0.03      0.96      0.80\n",
       "2           100          1.0         0.04      0.96      0.80\n",
       "3           200          1.0         0.04      0.96      0.80\n",
       "4           300          1.0         0.04      0.96      0.80\n",
       "5           500          1.0         0.04      0.96      0.80\n",
       "6          1000          1.0         0.04      0.97      0.80"
      ]
     },
     "execution_count": 168,
     "metadata": {},
     "output_type": "execute_result"
    }
   ],
   "source": [
    "# Combine all metric to a dataframe\n",
    "df_matrics = pd.DataFrame()\n",
    "df_matrics['n_estimators'] = ks\n",
    "df_matrics['precision_0'] = precision_0\n",
    "df_matrics['precision_1'] = precision_1\n",
    "df_matrics['recall_0'] = recall_0\n",
    "df_matrics['recall_1'] = recall_1\n",
    "\n",
    "df_matrics"
   ]
  },
  {
   "cell_type": "markdown",
   "id": "43c8c382-a770-4ac6-89a4-d8a513b65d73",
   "metadata": {},
   "source": [
    "The precision and recall values for every `n_estimators` are almost the same."
   ]
  },
  {
   "cell_type": "markdown",
   "id": "d4626296-8290-4b79-8acb-76920f7dab90",
   "metadata": {},
   "source": [
    "**(2) `contamination`: in the range (0, 0.5]**"
   ]
  },
  {
   "cell_type": "code",
   "execution_count": 191,
   "id": "ea06bae9-c8e8-4d1d-83bb-2a8069120631",
   "metadata": {},
   "outputs": [],
   "source": [
    "precision_0 = []\n",
    "precision_1 = []\n",
    "recall_0 = []\n",
    "recall_1 = []\n",
    "\n",
    "cs = [0.01, 0.05, 0.1, 0.2, 0.3, 0.4, 0.5]  \n",
    "for c in cs:\n",
    "    clf = IsolationForest(contamination=c, random_state=0)\n",
    "    clf.fit(X_train)\n",
    "    y_pred = clf.predict(X_test)\n",
    "    \n",
    "    y_pred[y_pred == 1] = 0 \n",
    "    y_pred[y_pred == -1] = 1 \n",
    "    \n",
    "    p, r, f, s = precision_recall_fscore_support(y_test, y_pred)\n",
    "\n",
    "    precision_0.append(round(p[0], 3))\n",
    "    precision_1.append(round(p[1], 3))\n",
    "    recall_0.append(round(r[0], 3))\n",
    "    recall_1.append(round(r[1], 3))"
   ]
  },
  {
   "cell_type": "code",
   "execution_count": 192,
   "id": "308c42c1-7ed4-4970-804b-599ca5ebc43d",
   "metadata": {},
   "outputs": [
    {
     "data": {
      "text/html": [
       "<div>\n",
       "<style scoped>\n",
       "    .dataframe tbody tr th:only-of-type {\n",
       "        vertical-align: middle;\n",
       "    }\n",
       "\n",
       "    .dataframe tbody tr th {\n",
       "        vertical-align: top;\n",
       "    }\n",
       "\n",
       "    .dataframe thead th {\n",
       "        text-align: right;\n",
       "    }\n",
       "</style>\n",
       "<table border=\"1\" class=\"dataframe\">\n",
       "  <thead>\n",
       "    <tr style=\"text-align: right;\">\n",
       "      <th></th>\n",
       "      <th>contamination</th>\n",
       "      <th>precision_0</th>\n",
       "      <th>precision_1</th>\n",
       "      <th>recall_0</th>\n",
       "      <th>recall_1</th>\n",
       "    </tr>\n",
       "  </thead>\n",
       "  <tbody>\n",
       "    <tr>\n",
       "      <th>0</th>\n",
       "      <td>0.01</td>\n",
       "      <td>0.999</td>\n",
       "      <td>0.072</td>\n",
       "      <td>0.990</td>\n",
       "      <td>0.463</td>\n",
       "    </tr>\n",
       "    <tr>\n",
       "      <th>1</th>\n",
       "      <td>0.05</td>\n",
       "      <td>1.000</td>\n",
       "      <td>0.028</td>\n",
       "      <td>0.952</td>\n",
       "      <td>0.821</td>\n",
       "    </tr>\n",
       "    <tr>\n",
       "      <th>2</th>\n",
       "      <td>0.10</td>\n",
       "      <td>1.000</td>\n",
       "      <td>0.014</td>\n",
       "      <td>0.901</td>\n",
       "      <td>0.853</td>\n",
       "    </tr>\n",
       "    <tr>\n",
       "      <th>3</th>\n",
       "      <td>0.20</td>\n",
       "      <td>1.000</td>\n",
       "      <td>0.008</td>\n",
       "      <td>0.800</td>\n",
       "      <td>0.916</td>\n",
       "    </tr>\n",
       "    <tr>\n",
       "      <th>4</th>\n",
       "      <td>0.30</td>\n",
       "      <td>1.000</td>\n",
       "      <td>0.005</td>\n",
       "      <td>0.701</td>\n",
       "      <td>0.958</td>\n",
       "    </tr>\n",
       "    <tr>\n",
       "      <th>5</th>\n",
       "      <td>0.40</td>\n",
       "      <td>1.000</td>\n",
       "      <td>0.004</td>\n",
       "      <td>0.601</td>\n",
       "      <td>0.958</td>\n",
       "    </tr>\n",
       "    <tr>\n",
       "      <th>6</th>\n",
       "      <td>0.50</td>\n",
       "      <td>1.000</td>\n",
       "      <td>0.003</td>\n",
       "      <td>0.501</td>\n",
       "      <td>0.958</td>\n",
       "    </tr>\n",
       "  </tbody>\n",
       "</table>\n",
       "</div>"
      ],
      "text/plain": [
       "   contamination  precision_0  precision_1  recall_0  recall_1\n",
       "0           0.01        0.999        0.072     0.990     0.463\n",
       "1           0.05        1.000        0.028     0.952     0.821\n",
       "2           0.10        1.000        0.014     0.901     0.853\n",
       "3           0.20        1.000        0.008     0.800     0.916\n",
       "4           0.30        1.000        0.005     0.701     0.958\n",
       "5           0.40        1.000        0.004     0.601     0.958\n",
       "6           0.50        1.000        0.003     0.501     0.958"
      ]
     },
     "execution_count": 192,
     "metadata": {},
     "output_type": "execute_result"
    }
   ],
   "source": [
    "# Combine all metric to a dataframe\n",
    "df_matrics = pd.DataFrame()\n",
    "df_matrics['contamination'] = cs\n",
    "df_matrics['precision_0'] = precision_0\n",
    "df_matrics['precision_1'] = precision_1\n",
    "df_matrics['recall_0'] = recall_0\n",
    "df_matrics['recall_1'] = recall_1\n",
    "\n",
    "df_matrics"
   ]
  },
  {
   "cell_type": "code",
   "execution_count": 181,
   "id": "62833055-55f8-4ecb-8b00-9e62eabf5b81",
   "metadata": {},
   "outputs": [
    {
     "data": {
      "image/png": "[encoded data removed]",
      "text/plain": [
       "<Figure size 1000x500 with 1 Axes>"
      ]
     },
     "metadata": {},
     "output_type": "display_data"
    }
   ],
   "source": [
    "# Plot the metrics\n",
    "df_matrics.plot(x='contamination', y=['precision_0', 'precision_1', 'recall_0', 'recall_1'], figsize=(10,5))\n",
    "\n",
    "# Set the x-axis label\n",
    "plt.xlabel('contamination')\n",
    "\n",
    "# Set the y-axis label\n",
    "plt.ylabel('Metrics')\n",
    "\n",
    "# Set the title of the plot\n",
    "plt.title('Hyperparameter Tuning')\n",
    "\n",
    "# Display the plot\n",
    "plt.show()"
   ]
  },
  {
   "cell_type": "markdown",
   "id": "eca8fdc4-ca49-4343-b6f7-82869ab76703",
   "metadata": {},
   "source": [
    "**Precision for Lable 0 (Normal):** Always equals 1.\n",
    "\n",
    "**Precision for Lable 1 (Fraud):** Very small, approaching 0 as `contamination` increases.\n",
    "\n",
    "**Recall for Lable 0 (Normal):** Decreases linearly with `contamination`. For contamination < 0.1, recall_0 > 0.9.\n",
    "\n",
    "**Recall for Lable 0 (Normal):** Increases with `contamination`. For contamination >= 0.05, recall_1 > 0.8.\n",
    "\n",
    "The default value (`contamination`='auto') gives the same result as \"contamination\" = 0.037. We just use the results with the default settings because it is relatively good."
   ]
  },
  {
   "cell_type": "markdown",
   "id": "d2a796aa-e43a-4cea-b417-c41307c9d5c8",
   "metadata": {},
   "source": [
    "### 3.4.2 Local Outlier Factor<a id='3.4.2'></a>"
   ]
  },
  {
   "cell_type": "markdown",
   "id": "9466f925-50d5-4dd5-b9ea-20e8cb4f1ee8",
   "metadata": {},
   "source": [
    "**Note** that if I want to use `sklearn.neighbors.LocalOutlierFactor` to fit on the training set and then predict on the testing set, I need to set `novelty` to `True`, which is called `Novelty Detection`. The result of clf.fit(X) then clf.predict(X) with novelty=True may differ from the result obtained by clf.fit_predict(X) with novelty=False."
   ]
  },
  {
   "cell_type": "code",
   "execution_count": 11,
   "id": "bc121312-2e58-47dc-85c8-b98c97b77b1e",
   "metadata": {
    "tags": []
   },
   "outputs": [],
   "source": [
    "# Model\n",
    "clf = LocalOutlierFactor(n_neighbors=1000, novelty=True)\n",
    "clf.fit(X_train)\n",
    "y_pred = clf.predict(X_test)\n",
    "\n",
    "# Rename Class labels\n",
    "y_pred[y_pred == 1] = 0 \n",
    "y_pred[y_pred == -1] = 1 \n",
    "\n",
    "# Metrics\n",
    "p, r, f, s = precision_recall_fscore_support(y_test, y_pred)\n",
    "LOF_scores = [round(p[1], 2), round(r[1], 2), round(f[1], 2)]\n",
    "\n",
    "print(classification_report(y_test, y_pred))\n",
    "cm = confusion_matrix(y_test, y_pred)\n",
    "disp = ConfusionMatrixDisplay(confusion_matrix=cm, display_labels = ['Normal', 'Fraud'])\n",
    "disp.plot()\n",
    "plt.show()"
   ]
  },
  {
   "cell_type": "markdown",
   "id": "ddee9547-aa31-4535-8f4b-588188daeb5d",
   "metadata": {},
   "source": [
    "## 3.5 Compare Scores from All Supervised and Unsupervised Models<a id='3.5'></a>"
   ]
  },
  {
   "cell_type": "code",
   "execution_count": 229,
   "id": "79afa373-499b-414b-8363-6bb63feb2a6f",
   "metadata": {},
   "outputs": [
    {
     "data": {
      "text/html": [
       "<div>\n",
       "<style scoped>\n",
       "    .dataframe tbody tr th:only-of-type {\n",
       "        vertical-align: middle;\n",
       "    }\n",
       "\n",
       "    .dataframe tbody tr th {\n",
       "        vertical-align: top;\n",
       "    }\n",
       "\n",
       "    .dataframe thead th {\n",
       "        text-align: right;\n",
       "    }\n",
       "</style>\n",
       "<table border=\"1\" class=\"dataframe\">\n",
       "  <thead>\n",
       "    <tr style=\"text-align: right;\">\n",
       "      <th></th>\n",
       "      <th>Precision</th>\n",
       "      <th>Recall</th>\n",
       "      <th>F1 Score</th>\n",
       "    </tr>\n",
       "  </thead>\n",
       "  <tbody>\n",
       "    <tr>\n",
       "      <th>Logistic Regression</th>\n",
       "      <td>0.85</td>\n",
       "      <td>0.58</td>\n",
       "      <td>0.69</td>\n",
       "    </tr>\n",
       "    <tr>\n",
       "      <th>LR w/ Resampling</th>\n",
       "      <td>0.06</td>\n",
       "      <td>0.87</td>\n",
       "      <td>0.11</td>\n",
       "    </tr>\n",
       "    <tr>\n",
       "      <th>XGBoost</th>\n",
       "      <td>0.97</td>\n",
       "      <td>0.76</td>\n",
       "      <td>0.85</td>\n",
       "    </tr>\n",
       "    <tr>\n",
       "      <th>XGB w/ Resampling</th>\n",
       "      <td>0.96</td>\n",
       "      <td>0.77</td>\n",
       "      <td>0.85</td>\n",
       "    </tr>\n",
       "    <tr>\n",
       "      <th>LightGBM</th>\n",
       "      <td>0.71</td>\n",
       "      <td>0.46</td>\n",
       "      <td>0.56</td>\n",
       "    </tr>\n",
       "    <tr>\n",
       "      <th>LGBM w/ Resampling</th>\n",
       "      <td>0.94</td>\n",
       "      <td>0.76</td>\n",
       "      <td>0.84</td>\n",
       "    </tr>\n",
       "    <tr>\n",
       "      <th>Isolation Forest</th>\n",
       "      <td>0.04</td>\n",
       "      <td>0.80</td>\n",
       "      <td>0.07</td>\n",
       "    </tr>\n",
       "  </tbody>\n",
       "</table>\n",
       "</div>"
      ],
      "text/plain": [
       "                     Precision  Recall  F1 Score\n",
       "Logistic Regression       0.85    0.58      0.69\n",
       "LR w/ Resampling          0.06    0.87      0.11\n",
       "XGBoost                   0.97    0.76      0.85\n",
       "XGB w/ Resampling         0.96    0.77      0.85\n",
       "LightGBM                  0.71    0.46      0.56\n",
       "LGBM w/ Resampling        0.94    0.76      0.84\n",
       "Isolation Forest          0.04    0.80      0.07"
      ]
     },
     "execution_count": 229,
     "metadata": {},
     "output_type": "execute_result"
    }
   ],
   "source": [
    "df_scores = pd.read_csv(\"../data/scores_supervised.csv\", index_col=0)\n",
    "\n",
    "df_scores.loc[len(df_scores),:] = IF_scores\n",
    "df_scores = df_scores.rename(index={6: 'Isolation Forest'})\n",
    "\n",
    "# df_scores.loc[len(df_scores),:] = LOF_scores\n",
    "# df_scores = df_scores.rename(index={7: 'Local Outlier Factor'})\n",
    "\n",
    "df_scores"
   ]
  }
 ],
 "metadata": {
  "kernelspec": {
   "display_name": "Python 3 (ipykernel)",
   "language": "python",
   "name": "python3"
  },
  "language_info": {
   "codemirror_mode": {
    "name": "ipython",
    "version": 3
   },
   "file_extension": ".py",
   "mimetype": "text/x-python",
   "name": "python",
   "nbconvert_exporter": "python",
   "pygments_lexer": "ipython3",
   "version": "3.9.13"
  }
 },
 "nbformat": 4,
 "nbformat_minor": 5
}
